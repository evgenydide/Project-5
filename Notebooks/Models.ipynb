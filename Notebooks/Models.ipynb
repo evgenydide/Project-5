{
 "cells": [
  {
   "cell_type": "code",
   "execution_count": 13,
   "id": "1c766d0d-5b77-487d-a486-c88aeda89746",
   "metadata": {},
   "outputs": [],
   "source": [
    "import numpy as np\n",
    "import pandas as pd\n",
    "import matplotlib.pyplot as plt\n",
    "\n",
    "from sklearn.model_selection import  train_test_split
    "from sklearn.ensemble import RandomForestClassifier, ExtraTreesClassifier\n",
   ]
  },
  {
   "cell_type": "code",
   "execution_count": 12,
   "id": "7541589a-31d3-4016-9236-c9d1e205a99d",
   "metadata": {},
   "outputs": [],
   "source": [
    "df=pd.read_csv('dataset.csv',low_memory=False)"
   ]
  },
  {
   "cell_type": "code",
   "execution_count": 15,
   "id": "1c28e61d-e5ea-4291-9710-db55912c38de",
   "metadata": {},
   "outputs": [
    {
     "data": {
      "text/plain": [
       "FIRE_YEAR             int64\n",
       "DISCOVERY_DATE      float64\n",
       "FIRE_SIZE           float64\n",
       "STAT_CAUSE_DESCR     object\n",
       "LATITUDE            float64\n",
       "LONGITUDE           float64\n",
       "STATE                object\n",
       "COUNTY               object\n",
       "dtype: object"
      ]
     },
     "execution_count": 15,
     "metadata": {},
     "output_type": "execute_result"
    }
   ],
   "source": [
    "df.dtypes"
   ]
  },
  {
   "cell_type": "code",
   "execution_count": 29,
   "id": "38fd11db-2ec2-4099-9c49-0281e614bb7b",
   "metadata": {},
   "outputs": [],
   "source": [
    "X=df.drop(['FIRE_YEAR','STAT_CAUSE_DESCR','STATE','COUNTY'],axis=1)\n",
    "y=df['STAT_CAUSE_DESCR']\n"
   ]
  },
  {
   "cell_type": "code",
   "execution_count": 22,
   "id": "1b1733cc-f9f6-4d80-a324-fa244d7da89f",
   "metadata": {},
   "outputs": [],
   "source": [
    "X_train,X_test,y_train,y_test=train_test_split(X,y)"
   ]
  },
  {
   "cell_type": "code",
   "execution_count": 19,
   "id": "c473fef3-ed23-4511-833a-585ff7bc9d25",
   "metadata": {},
   "outputs": [],
   "source": [
    "rf = RandomForestClassifier(n_estimators=100)\n",
    "et = ExtraTreesClassifier(n_estimators=100)"
   ]
  },
  {
   "cell_type": "code",
   "execution_count": 27,
   "id": "42dc3763-aaa8-44f3-b445-0797ecf9f5ab",
   "metadata": {},
   "outputs": [
    {
     "name": "stderr",
     "output_type": "stream",
     "text": [
      "C:\\Users\\raild\\AppData\\Local\\Temp\\ipykernel_9508\\1736093096.py:1: DataConversionWarning: A column-vector y was passed when a 1d array was expected. Please change the shape of y to (n_samples,), for example using ravel().\n",
      "  rf.fit(X_train,y_train)\n"
     ]
    },
    {
     "data": {
      "text/plain": [
       "0.9997128368317607"
      ]
     },
     "execution_count": 27,
     "metadata": {},
     "output_type": "execute_result"
    }
   ],
   "source": [
    "rf.fit(X_train,y_train)\n",
    "rf.score(X_train,y_train)"
   ]
  },
  {
   "cell_type": "code",
   "execution_count": 28,
   "id": "5348a38e-b9a3-403a-8794-eab5418232d0",
   "metadata": {},
   "outputs": [
    {
     "data": {
      "text/plain": [
       "0.5864157220436614"
      ]
     },
     "execution_count": 28,
     "metadata": {},
     "output_type": "execute_result"
    }
   ],
   "source": [
    "rf.score(X_test,y_test)"
   ]
  },
  {
   "cell_type": "code",
   "execution_count": 31,
   "id": "4edc86a2-4b9e-4451-b5ed-405b3d3c3924",
   "metadata": {},
   "outputs": [
    {
     "name": "stderr",
     "output_type": "stream",
     "text": [
      "C:\\Users\\raild\\AppData\\Local\\Temp\\ipykernel_9508\\3408915483.py:1: DataConversionWarning: A column-vector y was passed when a 1d array was expected. Please change the shape of y to (n_samples,), for example using ravel().\n",
      "  et.fit(X_train,y_train)\n"
     ]
    },
    {
     "data": {
      "text/plain": [
       "0.9997178001457796"
      ]
     },
     "execution_count": 31,
     "metadata": {},
     "output_type": "execute_result"
    }
   ],
   "source": [
    "et.fit(X_train,y_train)\n",
    "et.score(X_train,y_train)"
   ]
  },
  {
   "cell_type": "code",
   "execution_count": 32,
   "id": "8ec3b7ee-135c-4e82-8fdc-72d16804c871",
   "metadata": {},
   "outputs": [
    {
     "data": {
      "text/plain": [
       "0.5932969877711293"
      ]
     },
     "execution_count": 32,
     "metadata": {},
     "output_type": "execute_result"
    }
   ],
   "source": [
    "et.score(X_test,y_test)"
   ]
  },
  {
   "cell_type": "code",
   "execution_count": null,
   "id": "a902cc01-d784-4987-916c-d30036324d0b",
   "metadata": {},
   "outputs": [],
   "source": []
  }
 ],
 "metadata": {
  "kernelspec": {
   "display_name": "Python 3 (ipykernel)",
   "language": "python",
   "name": "python3"
  },
  "language_info": {
   "codemirror_mode": {
    "name": "ipython",
    "version": 3
   },
   "file_extension": ".py",
   "mimetype": "text/x-python",
   "name": "python",
   "nbconvert_exporter": "python",
   "pygments_lexer": "ipython3",
   "version": "3.9.12"
  }
 },
 "nbformat": 4,
 "nbformat_minor": 5
}
